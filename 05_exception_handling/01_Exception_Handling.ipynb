{
  "nbformat": 4,
  "nbformat_minor": 0,
  "metadata": {
    "colab": {
      "provenance": [],
      "toc_visible": true,
      "authorship_tag": "ABX9TyOOFK+4jQbfk9FBzUOqzkrr",
      "include_colab_link": true
    },
    "kernelspec": {
      "name": "python3",
      "display_name": "Python 3"
    },
    "language_info": {
      "name": "python"
    }
  },
  "cells": [
    {
      "cell_type": "markdown",
      "metadata": {
        "id": "view-in-github",
        "colab_type": "text"
      },
      "source": [
        "<a href=\"https://colab.research.google.com/github/hardikdhamija96/Python_0_To_1/blob/main/05_exception_handling/01_Exception_Handling.ipynb\" target=\"_parent\"><img src=\"https://colab.research.google.com/assets/colab-badge.svg\" alt=\"Open In Colab\"/></a>"
      ]
    },
    {
      "cell_type": "markdown",
      "source": [
        "## 🧾 What is an Error?\n",
        "\n",
        "In programming, an **error** is something that goes wrong while writing or running code.  \n",
        "It can cause the program to behave unexpectedly, show incorrect results, or even crash.\n",
        "\n",
        "There are mainly **two types of errors** in Python:\n",
        "\n",
        "1. **Syntax Error** – mistakes in the structure of code\n",
        "2. **Runtime Error (Exception)** – mistakes that happen while the program is running\n",
        "\n",
        "Let’s understand them one by one."
      ],
      "metadata": {
        "id": "e_TGLms82rGo"
      }
    },
    {
      "cell_type": "code",
      "execution_count": null,
      "metadata": {
        "colab": {
          "base_uri": "https://localhost:8080/",
          "height": 106
        },
        "id": "otyMKPVa2qkj",
        "outputId": "895133df-104f-4205-f667-251daa4a8151"
      },
      "outputs": [
        {
          "output_type": "error",
          "ename": "SyntaxError",
          "evalue": "expected ':' (<ipython-input-1-f9e01eebb426>, line 4)",
          "traceback": [
            "\u001b[0;36m  File \u001b[0;32m\"<ipython-input-1-f9e01eebb426>\"\u001b[0;36m, line \u001b[0;32m4\u001b[0m\n\u001b[0;31m    if True\u001b[0m\n\u001b[0m           ^\u001b[0m\n\u001b[0;31mSyntaxError\u001b[0m\u001b[0;31m:\u001b[0m expected ':'\n"
          ]
        }
      ],
      "source": [
        "# ❌ Syntax Error Example\n",
        "\n",
        "# Missing colon at the end of the if statement\n",
        "if True\n",
        "    print(\"Hello, world!\")"
      ]
    },
    {
      "cell_type": "markdown",
      "source": [
        "## 🔴 Syntax Errors in Python\n",
        "\n",
        "A **syntax error** occurs when the code **does not follow the correct structure or rules** of the Python language.\n",
        "\n",
        "---\n",
        "\n",
        "### 🧠 Two Phases of Running a Python Program:\n",
        "\n",
        "1. **Parsing / Compilation Phase** (happens first)  \n",
        "   🔍 Python checks the syntax and compiles code to bytecode.  \n",
        "   ❗ Syntax errors are caught **here** — before any code runs.\n",
        "\n",
        "2. **Execution Phase**  \n",
        "   ✅ If no syntax errors, Python starts running the code line by line.  \n",
        "   ❗ This is when **exceptions (runtime errors)** may occur.\n",
        "\n",
        "---\n",
        "\n",
        "### 💥 What is a Syntax Error?\n",
        "\n",
        "- Caught **before execution** (during parsing)\n",
        "- Stops the program from running\n",
        "- Often due to:\n",
        "  - Missing colons `:`\n",
        "  - Wrong indentation\n",
        "  - Mismatched brackets\n",
        "  - Typos in keywords\n"
      ],
      "metadata": {
        "id": "3qMElE983S7t"
      }
    },
    {
      "cell_type": "code",
      "source": [
        "# ❌ Syntax Error Examples (uncomment one at a time to test)\n",
        "\n",
        "#print \"Hello\"           # Missing parentheses\n",
        "# message = \"Hello world' # Mismatched quotes\n",
        "# def show():             # Wrong indentation\n",
        "# print(\"Wrong indentation\")\n",
        "# class = \"Physics\"       # Using reserved keyword\n",
        "# numbers = [1, 2, 3       # Missing closing bracket\n",
        "# 5 = x                   # Invalid assignment\n"
      ],
      "metadata": {
        "colab": {
          "base_uri": "https://localhost:8080/",
          "height": 106
        },
        "id": "30HXWdS63RSN",
        "outputId": "ae2171b0-2dbb-4f20-f763-7390c0c4e7e9"
      },
      "execution_count": null,
      "outputs": [
        {
          "output_type": "error",
          "ename": "IndentationError",
          "evalue": "unexpected indent (<ipython-input-4-4f073a32d072>, line 4)",
          "traceback": [
            "\u001b[0;36m  File \u001b[0;32m\"<ipython-input-4-4f073a32d072>\"\u001b[0;36m, line \u001b[0;32m4\u001b[0m\n\u001b[0;31m    message = \"Hello world' # Mismatched quotes\u001b[0m\n\u001b[0m    ^\u001b[0m\n\u001b[0;31mIndentationError\u001b[0m\u001b[0;31m:\u001b[0m unexpected indent\n"
          ]
        }
      ]
    },
    {
      "cell_type": "markdown",
      "source": [
        "## ⚠️ Runtime Errors (Exceptions)\n",
        "\n",
        "A **runtime error** (also called an **exception**) is a problem that occurs while the program is running.\n",
        "\n",
        "Unlike syntax errors, these do **not prevent the code from compiling** — but they crash the program **during execution**.\n",
        "\n",
        "---\n",
        "\n",
        "### 💥 What is an Exception?\n",
        "\n",
        "- An **exception** is a built-in Python object raised when something goes wrong at runtime.\n",
        "- If **not handled**, it **stops the program immediately**.\n",
        "- Exception handling helps the program recover or fail gracefully.\n"
      ],
      "metadata": {
        "id": "clBKYXTb4N-F"
      }
    },
    {
      "cell_type": "code",
      "source": [
        "# ❌ Runtime Error Example\n",
        "\n",
        "num = 10\n",
        "den = 0\n",
        "\n",
        "ans = num / den  # Raises ZeroDivisionError\n",
        "print(\"This line won't run.\")"
      ],
      "metadata": {
        "colab": {
          "base_uri": "https://localhost:8080/",
          "height": 193
        },
        "id": "F7jabJdX39sO",
        "outputId": "dce91e7c-06dd-4ef8-bf60-928568e719eb"
      },
      "execution_count": null,
      "outputs": [
        {
          "output_type": "error",
          "ename": "ZeroDivisionError",
          "evalue": "division by zero",
          "traceback": [
            "\u001b[0;31m---------------------------------------------------------------------------\u001b[0m",
            "\u001b[0;31mZeroDivisionError\u001b[0m                         Traceback (most recent call last)",
            "\u001b[0;32m<ipython-input-5-9722706edca8>\u001b[0m in \u001b[0;36m<cell line: 0>\u001b[0;34m()\u001b[0m\n\u001b[1;32m      4\u001b[0m \u001b[0mden\u001b[0m \u001b[0;34m=\u001b[0m \u001b[0;36m0\u001b[0m\u001b[0;34m\u001b[0m\u001b[0;34m\u001b[0m\u001b[0m\n\u001b[1;32m      5\u001b[0m \u001b[0;34m\u001b[0m\u001b[0m\n\u001b[0;32m----> 6\u001b[0;31m \u001b[0mans\u001b[0m \u001b[0;34m=\u001b[0m \u001b[0mnum\u001b[0m \u001b[0;34m/\u001b[0m \u001b[0mden\u001b[0m  \u001b[0;31m# Raises ZeroDivisionError\u001b[0m\u001b[0;34m\u001b[0m\u001b[0;34m\u001b[0m\u001b[0m\n\u001b[0m\u001b[1;32m      7\u001b[0m \u001b[0mprint\u001b[0m\u001b[0;34m(\u001b[0m\u001b[0;34m\"This line won't run.\"\u001b[0m\u001b[0;34m)\u001b[0m\u001b[0;34m\u001b[0m\u001b[0;34m\u001b[0m\u001b[0m\n",
            "\u001b[0;31mZeroDivisionError\u001b[0m: division by zero"
          ]
        }
      ]
    },
    {
      "cell_type": "markdown",
      "source": [
        "### 🧠 What happened here?\n",
        "\n",
        "- Python allowed the code to run — no syntax issues were found.\n",
        "- During execution, it raised a **ZeroDivisionError**.\n",
        "- Since the exception was not handled, the program crashed and stopped immediately.\n"
      ],
      "metadata": {
        "id": "a_ZIfRa04k6p"
      }
    },
    {
      "cell_type": "markdown",
      "source": [
        "## ❓ Why Exception Handling is Needed\n",
        "\n",
        "When an exception occurs and it's not handled, the program **crashes**.  \n",
        "This can lead to a **bad user experience** and **interruption of important logic**.\n",
        "\n",
        "---\n",
        "\n",
        "### 📍 Real-World Analogy:\n",
        "\n",
        "Imagine a payment app crashes just because someone entered 0 in a discount field — that's not ideal.  \n",
        "We need to **handle such situations gracefully**.\n",
        "\n",
        "---\n",
        "\n",
        "### 🎯 Goal of Exception Handling:\n",
        "\n",
        "- Detect and handle exceptions **without crashing the program**\n",
        "- Show useful messages or fallback logic\n",
        "- Allow the program to **recover** or **exit cleanly**\n"
      ],
      "metadata": {
        "id": "196uRF_A46KS"
      }
    },
    {
      "cell_type": "code",
      "source": [
        "# ❌ Without exception handling\n",
        "\n",
        "num = 10\n",
        "den = 0\n",
        "\n",
        "ans = num / den  # Exception occurs\n",
        "print(\"Transaction completed.\")  # Never runs"
      ],
      "metadata": {
        "colab": {
          "base_uri": "https://localhost:8080/",
          "height": 193
        },
        "id": "wGvw2Zdh4Tzm",
        "outputId": "fc75d028-298f-47b9-c2aa-235bb9827cc2"
      },
      "execution_count": null,
      "outputs": [
        {
          "output_type": "error",
          "ename": "ZeroDivisionError",
          "evalue": "division by zero",
          "traceback": [
            "\u001b[0;31m---------------------------------------------------------------------------\u001b[0m",
            "\u001b[0;31mZeroDivisionError\u001b[0m                         Traceback (most recent call last)",
            "\u001b[0;32m<ipython-input-6-f0ce850d49b1>\u001b[0m in \u001b[0;36m<cell line: 0>\u001b[0;34m()\u001b[0m\n\u001b[1;32m      4\u001b[0m \u001b[0mden\u001b[0m \u001b[0;34m=\u001b[0m \u001b[0;36m0\u001b[0m\u001b[0;34m\u001b[0m\u001b[0;34m\u001b[0m\u001b[0m\n\u001b[1;32m      5\u001b[0m \u001b[0;34m\u001b[0m\u001b[0m\n\u001b[0;32m----> 6\u001b[0;31m \u001b[0mans\u001b[0m \u001b[0;34m=\u001b[0m \u001b[0mnum\u001b[0m \u001b[0;34m/\u001b[0m \u001b[0mden\u001b[0m  \u001b[0;31m# Exception occurs\u001b[0m\u001b[0;34m\u001b[0m\u001b[0;34m\u001b[0m\u001b[0m\n\u001b[0m\u001b[1;32m      7\u001b[0m \u001b[0mprint\u001b[0m\u001b[0;34m(\u001b[0m\u001b[0;34m\"Transaction completed.\"\u001b[0m\u001b[0;34m)\u001b[0m  \u001b[0;31m# Never runs\u001b[0m\u001b[0;34m\u001b[0m\u001b[0;34m\u001b[0m\u001b[0m\n",
            "\u001b[0;31mZeroDivisionError\u001b[0m: division by zero"
          ]
        }
      ]
    },
    {
      "cell_type": "code",
      "source": [
        "# ✅ With exception handling\n",
        "\n",
        "num = 10\n",
        "den = 0\n",
        "\n",
        "try:\n",
        "    ans = num / den\n",
        "except ZeroDivisionError:\n",
        "    print(\"Cannot divide by zero.\")\n",
        "\n",
        "print(\"Transaction completed.\")  # Still runs"
      ],
      "metadata": {
        "colab": {
          "base_uri": "https://localhost:8080/"
        },
        "id": "9r2pE1lj5Dbk",
        "outputId": "738add44-62fe-4397-de3b-0e3158c799aa"
      },
      "execution_count": null,
      "outputs": [
        {
          "output_type": "stream",
          "name": "stdout",
          "text": [
            "Cannot divide by zero.\n",
            "Transaction completed.\n"
          ]
        }
      ]
    },
    {
      "cell_type": "markdown",
      "source": [
        "### ✅ Key Takeaway:\n",
        "\n",
        "Using `try-except`, we can catch exceptions and **prevent the program from crashing**.  \n",
        "This is especially important in real-world applications like banking, healthcare, and e-commerce."
      ],
      "metadata": {
        "id": "6U5OB2ed5O_D"
      }
    },
    {
      "cell_type": "markdown",
      "source": [
        "## 🛠️ Basic Exception Handling with `try-except`\n",
        "\n",
        "Python allows you to handle exceptions using the `try` and `except` blocks.\n",
        "\n",
        "---\n",
        "\n",
        "### 🧩 Syntax:\n",
        "\n",
        "```python\n",
        "try:\n",
        "    # Code that might raise an exception\n",
        "except SomeException:\n",
        "    # Code that runs if the exception occurs\n"
      ],
      "metadata": {
        "id": "-cvFf3qa5ZfY"
      }
    },
    {
      "cell_type": "code",
      "source": [
        "# ✅ Basic try-except example\n",
        "\n",
        "try:\n",
        "    num = 10\n",
        "    den = 0\n",
        "    ans = num / den\n",
        "    print(\"Result:\", ans)\n",
        "except ZeroDivisionError:\n",
        "    print(\"⚠️ You can't divide by zero.\")"
      ],
      "metadata": {
        "colab": {
          "base_uri": "https://localhost:8080/"
        },
        "id": "pjj762yA5HPU",
        "outputId": "4da04182-b511-46f8-a283-fd4312517a22"
      },
      "execution_count": null,
      "outputs": [
        {
          "output_type": "stream",
          "name": "stdout",
          "text": [
            "⚠️ You can't divide by zero.\n"
          ]
        }
      ]
    },
    {
      "cell_type": "markdown",
      "source": [
        "### 🧠 What happened here?\n",
        "\n",
        "- The code inside `try` block attempted to divide by zero.\n",
        "- Python raised a `ZeroDivisionError`.\n",
        "- The `except` block **caught** the exception and displayed a custom message.\n",
        "- The program continued without crashing."
      ],
      "metadata": {
        "id": "eQkTje8P5oYV"
      }
    },
    {
      "cell_type": "code",
      "source": [
        "# ✅ Handling another exception\n",
        "\n",
        "try:\n",
        "    print(value)  # value is not defined\n",
        "except NameError:\n",
        "    print(\"⚠️ The variable is not defined.\")\n"
      ],
      "metadata": {
        "colab": {
          "base_uri": "https://localhost:8080/"
        },
        "id": "5gBobKh95iGw",
        "outputId": "34074814-8000-4432-f42b-04fba179726d"
      },
      "execution_count": null,
      "outputs": [
        {
          "output_type": "stream",
          "name": "stdout",
          "text": [
            "⚠️ The variable is not defined.\n"
          ]
        }
      ]
    },
    {
      "cell_type": "markdown",
      "source": [
        "### 🧪 Practice Tasks: Basic try-except\n",
        "1. **Even Divider**  \n",
        "   Create a function `divide_evenly(a, b)`  \n",
        "   - If `b` is zero, catch the `ZeroDivisionError`  \n",
        "   - Print: \"Cannot divide by zero\"  \n",
        "   - Else, print the division result\n",
        "\n",
        "---\n",
        "\n",
        "2. **Safe Integer Input**  \n",
        "   Create a function `safe_input()`  \n",
        "   - Use `input()` to take a number from the user  \n",
        "   - Catch `ValueError` if the input is not an integer  \n",
        "   - Print: \"Please enter a valid integer\"\n",
        "\n",
        "---\n",
        "\n",
        "3. **List Index Catcher**  \n",
        "   Create a function `get_element(my_list, index)`  \n",
        "   - Try accessing the element at `index`  \n",
        "   - Catch `IndexError`  \n",
        "   - Print: \"Index out of range\"  \n",
        "   - If no exception, print the element\n"
      ],
      "metadata": {
        "id": "tBRlPBG7KOCf"
      }
    },
    {
      "cell_type": "code",
      "source": [
        "#task1\n",
        "def divide_evenly(a,b):\n",
        "  try:\n",
        "    ans=a/b # This raises ZeroDivisionError if b == 0\n",
        "  except ZeroDivisionError:\n",
        "    print(\"Cannot divide by zero\")\n",
        "  else:\n",
        "    print(ans)\n",
        "\n",
        "divide_evenly(10,0)"
      ],
      "metadata": {
        "colab": {
          "base_uri": "https://localhost:8080/"
        },
        "id": "XWzt7PdOKVYF",
        "outputId": "269a247b-97ea-43cd-deb2-08449da2001e"
      },
      "execution_count": null,
      "outputs": [
        {
          "output_type": "stream",
          "name": "stdout",
          "text": [
            "Cannot divide by zero\n"
          ]
        }
      ]
    },
    {
      "cell_type": "code",
      "source": [
        "#task 2\n",
        "def safe_input():\n",
        "  try:\n",
        "    num = int(input(\"Enter val: \"))\n",
        "  except ValueError:\n",
        "    print(\"Please enter a valid integer\")\n",
        "  else:\n",
        "    print(\"Your value:\", num)\n",
        "\n",
        "safe_input()"
      ],
      "metadata": {
        "colab": {
          "base_uri": "https://localhost:8080/"
        },
        "id": "t2hi7y7JLX_D",
        "outputId": "fc26fe39-dece-46ac-96d5-156f16c5e722"
      },
      "execution_count": null,
      "outputs": [
        {
          "output_type": "stream",
          "name": "stdout",
          "text": [
            "Enter val: 5\n",
            "Your value: 5\n"
          ]
        }
      ]
    },
    {
      "cell_type": "code",
      "source": [
        "#task 3\n",
        "def get_element(my_list,ind):\n",
        "  try:\n",
        "    val = my_list[ind]\n",
        "  except IndexError:\n",
        "    print(\"Index out of Range\")\n",
        "  else:\n",
        "    print(val)\n",
        "\n",
        "get_element([1,2,3],4)"
      ],
      "metadata": {
        "colab": {
          "base_uri": "https://localhost:8080/"
        },
        "id": "Nsh_7X6JMVDz",
        "outputId": "76f35710-8fdf-409c-cbe7-49b2e033cb12"
      },
      "execution_count": null,
      "outputs": [
        {
          "output_type": "stream",
          "name": "stdout",
          "text": [
            "Index out of Range\n"
          ]
        }
      ]
    },
    {
      "cell_type": "markdown",
      "source": [
        "## 🔁 Handling Multiple Exceptions & Accessing Error Info\n",
        "\n",
        "You can handle **different types of exceptions** using multiple `except` blocks.  \n",
        "You can also access the actual error message by using `except Exception as e`.\n",
        "\n",
        "---\n",
        "\n",
        "### 🧩 Syntax:\n",
        "\n",
        "```python\n",
        "try:\n",
        "    # Code that might raise an exception\n",
        "except ValueError:\n",
        "    # Handle ValueError\n",
        "except ZeroDivisionError:\n",
        "    # Handle ZeroDivisionError\n",
        "except Exception as e:\n",
        "    # Catch-all for any other exception\n",
        "    print(\"Something went wrong:\", e)\n",
        "\n",
        "```"
      ],
      "metadata": {
        "id": "jwCNJkgg6aje"
      }
    },
    {
      "cell_type": "code",
      "source": [
        "try:\n",
        "    x = int(\"abc\")       # Will raise ValueError\n",
        "    y = 10 / 0           # Would raise ZeroDivisionError if reached\n",
        "except ValueError:\n",
        "    print(\"⚠️ ValueError: Cannot convert string to integer.\")\n",
        "except ZeroDivisionError:\n",
        "    print(\"⚠️ ZeroDivisionError: Cannot divide by zero.\")"
      ],
      "metadata": {
        "colab": {
          "base_uri": "https://localhost:8080/"
        },
        "id": "EqbRWiEf5rl-",
        "outputId": "eab3247a-feac-4fab-ec4c-11d22e506ccf"
      },
      "execution_count": null,
      "outputs": [
        {
          "output_type": "stream",
          "name": "stdout",
          "text": [
            "⚠️ ValueError: Cannot convert string to integer.\n"
          ]
        }
      ]
    },
    {
      "cell_type": "code",
      "source": [
        "# ✅ Catching any exception and printing the message\n",
        "\n",
        "try:\n",
        "    name = undefined_var  # This will raise a NameError\n",
        "except Exception as e:\n",
        "    print(\"⚠️ Exception caught:\", e)"
      ],
      "metadata": {
        "colab": {
          "base_uri": "https://localhost:8080/"
        },
        "id": "06_N1y6Y6x_x",
        "outputId": "21d6c982-5ea4-4988-e41a-e187175f9483"
      },
      "execution_count": null,
      "outputs": [
        {
          "output_type": "stream",
          "name": "stdout",
          "text": [
            "⚠️ Exception caught: name 'undefined_var' is not defined\n"
          ]
        }
      ]
    },
    {
      "cell_type": "markdown",
      "source": [
        "## ➕ Using `else` with try-except\n",
        "\n",
        "The `else` block runs **only if the `try` block doesn't raise any exception**.  \n",
        "It's helpful for code that should only run when everything in `try` was successful.\n",
        "\n",
        "---\n",
        "\n",
        "### 🧩 Syntax:\n",
        "\n",
        "```python\n",
        "try:\n",
        "    # Code that might raise an exception\n",
        "except SomeException:\n",
        "    # Code to handle exception\n",
        "else:\n",
        "    # Code to run if no exception occurred\n",
        "```"
      ],
      "metadata": {
        "id": "dtBSQVZL7vGB"
      }
    },
    {
      "cell_type": "code",
      "source": [
        "try:\n",
        "    num = 10\n",
        "    den = 2\n",
        "    result = num / den\n",
        "except ZeroDivisionError:\n",
        "    print(\"⚠️ Division by zero is not allowed.\")\n",
        "else:\n",
        "    print(\"✅ Division successful:\", result)"
      ],
      "metadata": {
        "colab": {
          "base_uri": "https://localhost:8080/"
        },
        "id": "gdJNZQla7kFE",
        "outputId": "b72114b1-b259-4b07-8afe-562db29deae7"
      },
      "execution_count": null,
      "outputs": [
        {
          "output_type": "stream",
          "name": "stdout",
          "text": [
            "✅ Division successful: 5.0\n"
          ]
        }
      ]
    },
    {
      "cell_type": "code",
      "source": [
        "# ❌ else block won't run if an exception is raised\n",
        "\n",
        "try:\n",
        "    value = int(\"abc\")  # Raises ValueError\n",
        "except ValueError:\n",
        "    print(\"⚠️ Invalid input.\")\n",
        "else:\n",
        "    print(\"✅ Input converted successfully.\")  # This line is skipped"
      ],
      "metadata": {
        "colab": {
          "base_uri": "https://localhost:8080/"
        },
        "id": "lbDTHuntC5uU",
        "outputId": "2118f041-76e0-45f3-ef4f-1115193885bd"
      },
      "execution_count": null,
      "outputs": [
        {
          "output_type": "stream",
          "name": "stdout",
          "text": [
            "⚠️ Invalid input.\n"
          ]
        }
      ]
    },
    {
      "cell_type": "markdown",
      "source": [
        "- Use `else` for code that depends on successful execution of `try`.\n",
        "- Keeps logic cleaner by separating \"success\" flow from \"error\" handling."
      ],
      "metadata": {
        "id": "-4u1nY1FDAFD"
      }
    },
    {
      "cell_type": "markdown",
      "source": [
        "## 🔚 Using the `finally` Block\n",
        "\n",
        "The `finally` block runs **no matter what** — whether an exception occurred or not.  \n",
        "It’s commonly used for **cleanup tasks** like closing files, releasing resources, or disconnecting from a database.\n",
        "\n",
        "---\n",
        "\n",
        "### 🧩 Syntax:\n",
        "\n",
        "```python\n",
        "try:\n",
        "    # Code that might raise an exception\n",
        "except SomeException:\n",
        "    # Code to handle the exception\n",
        "finally:\n",
        "    # Code that will always run\n",
        "```"
      ],
      "metadata": {
        "id": "u2WxRCsiDOFh"
      }
    },
    {
      "cell_type": "code",
      "source": [
        "try:\n",
        "    result = 10 / 0\n",
        "except ZeroDivisionError:\n",
        "    print(\"⚠️ Division by zero.\")\n",
        "finally:\n",
        "    print(\"✅ This runs no matter what.\")"
      ],
      "metadata": {
        "colab": {
          "base_uri": "https://localhost:8080/"
        },
        "id": "Y5tfO9j4C8ns",
        "outputId": "b6f75c52-bb99-4657-b444-c66ff9edcbb3"
      },
      "execution_count": null,
      "outputs": [
        {
          "output_type": "stream",
          "name": "stdout",
          "text": [
            "⚠️ Division by zero.\n",
            "✅ This runs no matter what.\n"
          ]
        }
      ]
    },
    {
      "cell_type": "code",
      "source": [
        "# ✅ finally block without exception\n",
        "\n",
        "try:\n",
        "    result = 10 / 2\n",
        "    print(\"✅ Result:\", result)\n",
        "except ZeroDivisionError:\n",
        "    print(\"⚠️ Division by zero.\")\n",
        "finally:\n",
        "    print(\"🔁 Cleanup: This always runs.\")\n"
      ],
      "metadata": {
        "colab": {
          "base_uri": "https://localhost:8080/"
        },
        "id": "55Rp65yvDUH2",
        "outputId": "721b8d78-3e20-4a91-f75b-3359c1b4ba10"
      },
      "execution_count": null,
      "outputs": [
        {
          "output_type": "stream",
          "name": "stdout",
          "text": [
            "✅ Result: 5.0\n",
            "🔁 Cleanup: This always runs.\n"
          ]
        }
      ]
    },
    {
      "cell_type": "code",
      "source": [
        "# ✅ Full try-except-else-finally example\n",
        "\n",
        "def divide(a, b):\n",
        "    try:\n",
        "        result = a / b\n",
        "    except ZeroDivisionError:\n",
        "        print(\"⚠️ Cannot divide by zero.\")\n",
        "    else:\n",
        "        print(\"✅ Division successful. Result =\", result)\n",
        "    finally:\n",
        "        print(\"🔁 Operation complete.\\n\")\n",
        "\n",
        "# Test cases\n",
        "divide(10, 2)   # No error → else + finally\n",
        "divide(10, 0)   # Error → except + finally"
      ],
      "metadata": {
        "colab": {
          "base_uri": "https://localhost:8080/"
        },
        "id": "NRrw605pDXSr",
        "outputId": "1271fcfc-b411-4412-9622-4da936dea3e7"
      },
      "execution_count": null,
      "outputs": [
        {
          "output_type": "stream",
          "name": "stdout",
          "text": [
            "✅ Division successful. Result = 5.0\n",
            "🔁 Operation complete.\n",
            "\n",
            "⚠️ Cannot divide by zero.\n",
            "🔁 Operation complete.\n",
            "\n"
          ]
        }
      ]
    },
    {
      "cell_type": "code",
      "source": [
        "# ✅ File handling with try-except-else-finally\n",
        "\n",
        "try:\n",
        "    file = open(\"sample.txt\", \"r\")  # Try opening the file\n",
        "except FileNotFoundError:\n",
        "    print(\"⚠️ File not found.\")\n",
        "else:\n",
        "    print(\"✅ File opened successfully.\")\n",
        "    print(\"📄 Content:\\n\", file.read())\n",
        "finally:\n",
        "    try:\n",
        "        file.close()\n",
        "        print(\"🔁 File closed.\")\n",
        "    except NameError:\n",
        "        print(\"ℹ️ File was never opened.\")\n"
      ],
      "metadata": {
        "colab": {
          "base_uri": "https://localhost:8080/"
        },
        "id": "h8_7DREzDiCr",
        "outputId": "b4c10cea-b895-4741-c1ee-d5afd593ae85"
      },
      "execution_count": null,
      "outputs": [
        {
          "output_type": "stream",
          "name": "stdout",
          "text": [
            "⚠️ File not found.\n",
            "ℹ️ File was never opened.\n"
          ]
        }
      ]
    },
    {
      "cell_type": "markdown",
      "source": [
        "### 🧪 Practice Tasks: try-except-else-finally\n",
        "\n",
        "1. **File Opener with Confirmation**\n",
        "   - Function: `read_file(filename)`\n",
        "   - Try to open a file and read its contents\n",
        "   - If file doesn’t exist, catch `FileNotFoundError`\n",
        "   - If successful, print content in `else`\n",
        "   - In `finally`, print \"Done reading attempt.\"\n",
        "\n",
        "---\n",
        "\n",
        "2. **Number Divider with Logging**\n",
        "   - Function: `safe_divide(a, b)`\n",
        "   - Try dividing `a / b`\n",
        "   - Catch `ZeroDivisionError`\n",
        "   - If successful, print result in `else`\n",
        "   - In `finally`, print \"Division attempt finished.\"\n",
        "\n",
        "---\n",
        "\n",
        "3. **Password Verifier**\n",
        "  - Function: `check_password(pwd)`\n",
        "  - If `pwd` is not a string or is empty, simulate an error using `len(pwd)`\n",
        "  - Catch `TypeError` or `ValueError`\n",
        "  - If no error, print \"Password accepted\" in `else`\n",
        "  - Print \"Password check complete\" in `finally`"
      ],
      "metadata": {
        "id": "MGMppB1HOF5G"
      }
    },
    {
      "cell_type": "code",
      "source": [
        "#Task 1\n",
        "def read_file(f):\n",
        "  try:\n",
        "    file = open(f,\"r\")\n",
        "  except FileNotFoundError:\n",
        "    print(\"File not found\")\n",
        "  else:\n",
        "    print(file.read())\n",
        "    file.close()\n",
        "  finally:\n",
        "    print(\"Done reading attempt\")\n",
        "\n",
        "read_file(\"sample.txt\")"
      ],
      "metadata": {
        "colab": {
          "base_uri": "https://localhost:8080/"
        },
        "id": "yFAijQkwmolf",
        "outputId": "d75e4ac3-e210-4496-ac0a-787938809170"
      },
      "execution_count": null,
      "outputs": [
        {
          "output_type": "stream",
          "name": "stdout",
          "text": [
            "File not found\n",
            "Done reading attempt\n"
          ]
        }
      ]
    },
    {
      "cell_type": "code",
      "source": [
        "#Task 2\n",
        "def safe_divide(a,b):\n",
        "  try:\n",
        "    val = a/b\n",
        "  except ZeroDivisionError:\n",
        "    print(\"Cannot divide by zero\")\n",
        "  else:\n",
        "    print(val)\n",
        "  finally:\n",
        "    print(\"safe division done!\")\n",
        "\n",
        "safe_divide(10,0)\n",
        "safe_divide(10,2)"
      ],
      "metadata": {
        "colab": {
          "base_uri": "https://localhost:8080/"
        },
        "id": "m3y30xkonsco",
        "outputId": "51270b30-d98c-4009-bb7e-0ce81df2c865"
      },
      "execution_count": null,
      "outputs": [
        {
          "output_type": "stream",
          "name": "stdout",
          "text": [
            "Cannot divide by zero\n",
            "safe division done!\n",
            "5.0\n",
            "safe division done!\n"
          ]
        }
      ]
    },
    {
      "cell_type": "code",
      "source": [
        "def check_password(pwd):\n",
        "  try:\n",
        "    # This will raise a TypeError if pwd is not a valid object for len()\n",
        "    # (like None, int, bool — which don't support len())\n",
        "    length = len(pwd)\n",
        "  except TypeError:\n",
        "    print(\"Invalid input type. Password must be a string\")\n",
        "  else:\n",
        "    if length ==0 :\n",
        "      print(\"Password cannot be empty\")\n",
        "    elif length < 6:\n",
        "      print(\"Password must be at least 6 characters long\")\n",
        "    else:\n",
        "      print(\"Password accepted\")\n",
        "  finally:\n",
        "    print(\"Password check complete\")\n",
        "\n",
        "check_password(\"1234\")\n",
        "check_password(None)\n",
        "check_password(23)\n"
      ],
      "metadata": {
        "colab": {
          "base_uri": "https://localhost:8080/"
        },
        "id": "CXR29lHsoWeK",
        "outputId": "76a7b8f3-cf4c-4b31-bd80-efa834b11fb5"
      },
      "execution_count": null,
      "outputs": [
        {
          "output_type": "stream",
          "name": "stdout",
          "text": [
            "Password must be at least 6 characters long\n",
            "Password check complete\n",
            "Invalid input type. Password must be a string\n",
            "Password check complete\n",
            "Invalid input type. Password must be a string\n",
            "Password check complete\n"
          ]
        }
      ]
    },
    {
      "cell_type": "markdown",
      "source": [
        "## ⬆️ Raising and Creating Custom Exceptions\n",
        "\n",
        "In Python, you can manually raise exceptions using the `raise` keyword.  \n",
        "You can also create your **own custom exception classes** by extending the built-in `Exception` class.\n",
        "\n",
        "---\n",
        "\n",
        "### 🚨 When to Use `raise`:\n",
        "\n",
        "- Input validation\n",
        "- Enforcing business rules\n",
        "- Handling edge cases more clearly"
      ],
      "metadata": {
        "id": "qxC28gUUEA08"
      }
    },
    {
      "cell_type": "code",
      "source": [
        "# ✅ Manually raising a built-in exception\n",
        "\n",
        "age = -5\n",
        "\n",
        "if age < 0:\n",
        "    # This string becomes the error message when the exception is raised\n",
        "    raise ValueError(\"Age cannot be negative.\")"
      ],
      "metadata": {
        "colab": {
          "base_uri": "https://localhost:8080/",
          "height": 176
        },
        "id": "jkOsnOs-DvnQ",
        "outputId": "2a4cb041-11eb-4835-de79-9b423d708cdd"
      },
      "execution_count": null,
      "outputs": [
        {
          "output_type": "error",
          "ename": "ValueError",
          "evalue": "Age cannot be negative.",
          "traceback": [
            "\u001b[0;31m---------------------------------------------------------------------------\u001b[0m",
            "\u001b[0;31mValueError\u001b[0m                                Traceback (most recent call last)",
            "\u001b[0;32m<ipython-input-21-7cdf2b910583>\u001b[0m in \u001b[0;36m<cell line: 0>\u001b[0;34m()\u001b[0m\n\u001b[1;32m      5\u001b[0m \u001b[0;32mif\u001b[0m \u001b[0mage\u001b[0m \u001b[0;34m<\u001b[0m \u001b[0;36m0\u001b[0m\u001b[0;34m:\u001b[0m\u001b[0;34m\u001b[0m\u001b[0;34m\u001b[0m\u001b[0m\n\u001b[1;32m      6\u001b[0m     \u001b[0;31m# This string becomes the error message when the exception is raised\u001b[0m\u001b[0;34m\u001b[0m\u001b[0;34m\u001b[0m\u001b[0m\n\u001b[0;32m----> 7\u001b[0;31m     \u001b[0;32mraise\u001b[0m \u001b[0mValueError\u001b[0m\u001b[0;34m(\u001b[0m\u001b[0;34m\"Age cannot be negative.\"\u001b[0m\u001b[0;34m)\u001b[0m\u001b[0;34m\u001b[0m\u001b[0;34m\u001b[0m\u001b[0m\n\u001b[0m",
            "\u001b[0;31mValueError\u001b[0m: Age cannot be negative."
          ]
        }
      ]
    },
    {
      "cell_type": "code",
      "source": [
        "# ✅ Defining and using a custom exception\n",
        "\n",
        "#Custom exception class\n",
        "class AgeTooSmallError(Exception):\n",
        "    \"\"\"Raised when the input age is too small\"\"\"\n",
        "    pass\n",
        "\n",
        "def validate_age(age):\n",
        "    if age < 18:\n",
        "        raise AgeTooSmallError(\"You must be at least 18 years old.\")\n",
        "    else:\n",
        "        print(\"✅ Age is valid.\")\n",
        "\n",
        "# Test\n",
        "try:\n",
        "    validate_age(15)\n",
        "except AgeTooSmallError as e:\n",
        "    print(\"⚠️ Custom Exception:\", e)"
      ],
      "metadata": {
        "colab": {
          "base_uri": "https://localhost:8080/"
        },
        "id": "ZGdeHpmEET5f",
        "outputId": "a0af6e67-6622-461a-b766-3df216dc57e5"
      },
      "execution_count": null,
      "outputs": [
        {
          "output_type": "stream",
          "name": "stdout",
          "text": [
            "⚠️ Custom Exception: You must be at least 18 years old.\n"
          ]
        }
      ]
    },
    {
      "cell_type": "markdown",
      "source": [
        "- Use `raise` to throw exceptions manually\n",
        "- Use custom exception classes to make your code cleaner and easier to understand\n",
        "- All custom exceptions should inherit from the `Exception` class"
      ],
      "metadata": {
        "id": "vogYlyWNGViC"
      }
    },
    {
      "cell_type": "markdown",
      "source": [
        "## 🧾 Why Create Custom Exceptions?\n",
        "\n",
        "Built-in exceptions like `ValueError`, `ZeroDivisionError`, etc., are great —  \n",
        "but sometimes we need more **specific, meaningful errors** in our programs.\n",
        "\n",
        "---\n",
        "\n",
        "### ✅ Real Use Cases:\n",
        "\n",
        "- \"User not found\" in a login system → `UserNotFoundError`\n",
        "- \"Age must be above 18\" in a form → `AgeTooSmallError`\n",
        "- \"Insufficient balance\" in payments → `InsufficientBalanceError`\n",
        "\n",
        "These make code:\n",
        "- Easier to read\n",
        "- Easier to debug\n",
        "- Cleaner to handle specific issues"
      ],
      "metadata": {
        "id": "fEDPfM78GkJQ"
      }
    },
    {
      "cell_type": "markdown",
      "source": [
        "## ✏️ Creating a Basic Custom Exception\n",
        "\n",
        "To create a custom exception:\n",
        "- Define a class\n",
        "- Inherit from Python’s built-in `Exception` class\n",
        "- Use `pass` if no custom behavior is needed\n"
      ],
      "metadata": {
        "id": "b8gCZ3NVGqeq"
      }
    },
    {
      "cell_type": "code",
      "source": [
        "# ✅ Basic Custom Exception\n",
        "\n",
        "# Custom exception class that inherits from Exception\n",
        "class AgeTooSmallError(Exception):\n",
        "    \"\"\"Raised when the input age is too small\"\"\"\n",
        "    pass  # No extra behavior added, just the name and docstring\n",
        "\n",
        "# Function to check age\n",
        "def check_age(age):\n",
        "    if age < 18:\n",
        "        # This string is passed to the exception and shown when printed\n",
        "        raise AgeTooSmallError(\"You must be at least 18 years old.\")\n",
        "    else:\n",
        "        print(\"✅ Age is valid.\")\n",
        "\n",
        "# Testing the function\n",
        "try:\n",
        "    check_age(15)\n",
        "except AgeTooSmallError as e:\n",
        "    # e contains the message passed during raise\n",
        "    print(\"⚠️ Error:\", e)"
      ],
      "metadata": {
        "colab": {
          "base_uri": "https://localhost:8080/"
        },
        "id": "hUobYSSLFG6s",
        "outputId": "a3f35fb0-00b6-4ae0-e1ce-0b45bc96c7c1"
      },
      "execution_count": null,
      "outputs": [
        {
          "output_type": "stream",
          "name": "stdout",
          "text": [
            "⚠️ Error: You must be at least 18 years old.\n"
          ]
        }
      ]
    },
    {
      "cell_type": "markdown",
      "source": [
        "## 🛠️ Customizing the Exception Class\n",
        "\n",
        "You can override methods like `__init__` and `__str__` in your custom exception class to:\n",
        "\n",
        "- Store extra information (e.g., the invalid input)\n",
        "- Customize how the error message appears when printed\n",
        "\n",
        "---\n",
        "\n",
        "### 🔹 `__init__` method\n",
        "- Called automatically when the exception object is created\n",
        "- Useful for accepting and storing extra data\n",
        "- Example: `def __init__(self, age, message):`\n",
        "\n",
        "```python\n",
        "def __init__(self, rating, message=\"Rating must be between 1 and 5\"):\n",
        "    self.rating = rating         # Store the invalid input\n",
        "    self.message = message       # Store the custom message\n",
        "```\n",
        "\n",
        "---\n",
        "\n",
        "### 🔹 `__str__` method\n",
        "- Called when the exception is printed (e.g., `print(e)`)\n",
        "- Customize the error message shown to the user\n",
        "- Example: `def __str__(self):`\n",
        "\n",
        "```python\n",
        "def __str__(self):\n",
        "    return f\"{self.message}. You gave: {self.rating}\"\n",
        "```\n",
        "\n",
        "---\n",
        "\n",
        "### 🔹 What does `super()` do?\n",
        "- `super().__init__(self.message)` passes your message to the built-in `Exception` class\n",
        "- This ensures Python handles your exception like any other (so `print(e)` shows the message)\n",
        "```python\n",
        "super().__init__(self.message)\n",
        "```\n",
        "---\n",
        "\n",
        "### 🔹 Why inherit from `Exception`?\n",
        "- All custom exceptions should inherit from Python’s built-in `Exception` class\n",
        "- This makes them compatible with `try-except` handling\n",
        "- You can still catch them specifically using:  \n",
        "  `except CustomError:` or generally using `except Exception:`\n"
      ],
      "metadata": {
        "id": "ORXd9AhUIhKA"
      }
    },
    {
      "cell_type": "code",
      "source": [
        "# ✅ Custom Exception with extra logic\n",
        "\n",
        "# Define a custom exception with additional logic for message formatting\n",
        "class AgeTooSmallError(Exception):\n",
        "    def __init__(self, age, message=\"Age is below 18.\"):\n",
        "        self.age = age                  # Store the invalid age\n",
        "        self.message = message          # Store the custom message\n",
        "        super().__init__(self.message)  # Pass the message to the base Exception class\n",
        "\n",
        "    def __str__(self):\n",
        "        # Customize how the exception appears when printed\n",
        "        return f\"{self.message} (You entered: {self.age})\"\n",
        "\n",
        "# Function to validate age\n",
        "def check_age(age):\n",
        "    if age < 18:\n",
        "        # Raise the custom exception, passing the age\n",
        "        raise AgeTooSmallError(age)\n",
        "    else:\n",
        "        print(\"✅ Age is valid.\")\n",
        "\n",
        "# Test the function with age < 18\n",
        "try:\n",
        "    check_age(16)\n",
        "except AgeTooSmallError as e:\n",
        "    # Catch and print the custom exception\n",
        "    print(\"⚠️ Custom Error:\", e)"
      ],
      "metadata": {
        "colab": {
          "base_uri": "https://localhost:8080/"
        },
        "id": "9HVVJXR9HWOz",
        "outputId": "7aa66532-14cd-4428-f76a-951529fd7c7a"
      },
      "execution_count": null,
      "outputs": [
        {
          "output_type": "stream",
          "name": "stdout",
          "text": [
            "⚠️ Custom Error: Age is below 18. (You entered: 16)\n"
          ]
        }
      ]
    },
    {
      "cell_type": "markdown",
      "source": [
        "### 🧪 Practice Tasks: `raise` & Custom Exceptions\n",
        "\n",
        "1. **Age Checker with `raise`**\n",
        "   - Function: `check_age(age)`\n",
        "   - If age is less than 0 or greater than 120, raise `ValueError(\"Invalid age entered.\")`\n",
        "   - Else, print \"Age is valid\"\n",
        "\n",
        "---\n",
        "\n",
        "2. **NegativeBalanceError**\n",
        "   - Create a custom exception class `NegativeBalanceError`\n",
        "   - Function: `withdraw(balance, amount)`\n",
        "   - If withdrawal makes balance negative, raise `NegativeBalanceError(\"Insufficient balance after withdrawal\")`\n",
        "   - Catch the custom exception in `try-except`\n",
        "   - Else, print remaining balance\n",
        "\n",
        "---\n",
        "\n",
        "3. **InvalidRatingError**\n",
        "   - Create a custom class `InvalidRatingError` that accepts an invalid rating value\n",
        "   - Function: `submit_rating(rating)`\n",
        "   - If rating is not between 1 and 5, raise `InvalidRatingError(rating)`\n",
        "   - Customize `__str__` to return: `\"Rating must be between 1 and 5. You gave: <rating>\"`\n",
        "   - If rating is valid, print \"Rating submitted successfully\"\n"
      ],
      "metadata": {
        "id": "IiigD3oksBNF"
      }
    },
    {
      "cell_type": "code",
      "source": [
        "# Task 1\n",
        "def check_age(age):\n",
        "  try:\n",
        "    if(age<0 or age>120):\n",
        "      raise ValueError(\"Invalid age entered.\")\n",
        "  except ValueError as e:\n",
        "    print(\"Error:\",e)\n",
        "  else:\n",
        "    print(\"Age is valid\")\n",
        "    return age\n",
        "\n",
        "check_age(121)\n",
        "check_age(44)"
      ],
      "metadata": {
        "colab": {
          "base_uri": "https://localhost:8080/"
        },
        "id": "6I3C_HYCrykF",
        "outputId": "8cc1ff64-9379-4d4a-e18d-93fce7551046"
      },
      "execution_count": null,
      "outputs": [
        {
          "output_type": "stream",
          "name": "stdout",
          "text": [
            "Error: Invalid age entered.\n",
            "Age is valid\n"
          ]
        },
        {
          "output_type": "execute_result",
          "data": {
            "text/plain": [
              "44"
            ]
          },
          "metadata": {},
          "execution_count": 12
        }
      ]
    },
    {
      "cell_type": "code",
      "source": [
        "#Task 2\n",
        "class NegativeBalanceError(Exception):\n",
        "  pass\n",
        "\n",
        "def withdraw(bal,amt):\n",
        "  try:\n",
        "    if(amt>bal):\n",
        "      raise NegativeBalanceError(\"Insufficient balance after withdrawal\")\n",
        "  except NegativeBalanceError as e:\n",
        "    print(\"Error:\",e)\n",
        "  else:\n",
        "    print(\"Remaining balance is\", bal-amt)\n",
        "\n",
        "withdraw(100,1000)\n",
        "withdraw(100,10)"
      ],
      "metadata": {
        "colab": {
          "base_uri": "https://localhost:8080/"
        },
        "id": "0Y1eYanWtWNT",
        "outputId": "7d100a84-6a4e-4744-c941-ebf0bfaafc6f"
      },
      "execution_count": null,
      "outputs": [
        {
          "output_type": "stream",
          "name": "stdout",
          "text": [
            "Error: Insufficiant balance after withdrawal\n",
            "Remaining balance is 90\n"
          ]
        }
      ]
    },
    {
      "cell_type": "code",
      "source": [
        "# ✅ Custom Exception: InvalidRatingError\n",
        "class InvalidRatingError(Exception):\n",
        "    # Constructor to initialize and store the invalid rating\n",
        "    def __init__(self, rating):\n",
        "        self.rating = rating\n",
        "        # Pass a formatted error message to the base Exception class\n",
        "        super().__init__(f\"Rating must be between 1 and 5. You gave: {self.rating}\")\n",
        "\n",
        "    # Custom string representation of the exception\n",
        "    def __str__(self):\n",
        "        return f\"Rating must be between 1 and 5. You gave: {self.rating}\"\n",
        "\n",
        "# Function to submit a rating\n",
        "def submit_rating(r):\n",
        "    try:\n",
        "        # Check if the rating is outside the valid range\n",
        "        if r < 1 or r > 5:\n",
        "            # Raise the custom exception with the invalid value\n",
        "            raise InvalidRatingError(r)\n",
        "    except InvalidRatingError as e:\n",
        "        # Handle the custom exception and print the error message\n",
        "        print(\"Error:\", e)\n",
        "    else:\n",
        "        # If no exception, confirm the rating was accepted\n",
        "        print(\"Rating submitted successfully\")\n",
        "\n",
        "# Test cases\n",
        "submit_rating(6)\n",
        "submit_rating(3)\n"
      ],
      "metadata": {
        "colab": {
          "base_uri": "https://localhost:8080/"
        },
        "id": "XTi7Yl7nJTTL",
        "outputId": "378c0a87-e6aa-453e-c578-a21334d9bcb5"
      },
      "execution_count": null,
      "outputs": [
        {
          "output_type": "stream",
          "name": "stdout",
          "text": [
            "Error: Rating must be between 1 and 5. You gave: 6\n",
            "Rating submitted successfully\n"
          ]
        }
      ]
    },
    {
      "cell_type": "code",
      "source": [],
      "metadata": {
        "id": "8L8_2LncIkaQ"
      },
      "execution_count": null,
      "outputs": []
    }
  ]
}