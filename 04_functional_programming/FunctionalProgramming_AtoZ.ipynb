{
  "nbformat": 4,
  "nbformat_minor": 0,
  "metadata": {
    "colab": {
      "provenance": [],
      "authorship_tag": "ABX9TyPHUmrxQefGu0yMa9SpqSUT",
      "include_colab_link": true
    },
    "kernelspec": {
      "name": "python3",
      "display_name": "Python 3"
    },
    "language_info": {
      "name": "python"
    }
  },
  "cells": [
    {
      "cell_type": "markdown",
      "metadata": {
        "id": "view-in-github",
        "colab_type": "text"
      },
      "source": [
        "<a href=\"https://colab.research.google.com/github/hardikdhamija96/Python_0_To_1/blob/main/04_functional_programming/FunctionalProgramming_AtoZ.ipynb\" target=\"_parent\"><img src=\"https://colab.research.google.com/assets/colab-badge.svg\" alt=\"Open In Colab\"/></a>"
      ]
    },
    {
      "cell_type": "markdown",
      "source": [
        "# Functional Programming\n",
        "## Introduction\n",
        "- Functional programming is a programming paradigm that treats computation as the evaluation of mathematical functions and avoids changing-state and mutable data.\n",
        "- It is a declarative programming style, which means that you describe what you want the program to do, rather than how to do it.\n",
        "\n",
        "## Why use functional programming?\n",
        "There are many reasons to use functional programming, including:\n",
        "\n",
        "- Concise and readable: Functional programs are often shorter and easier to understand than imperative programs. This is because they are based on mathematical functions, which are already familiar to many people.\n",
        "- More maintainable: Functional programs are easier to maintain because they are less prone to errors. This is because they do not have side effects of mutability, which can make it difficult to track down the source of errors.\n",
        "- Efficient: Functional programs can often be more efficient than imperative programs. This is because they do not need to update the state of the data, which can be a costly operation."
      ],
      "metadata": {
        "id": "dE91F98mA3pw"
      }
    },
    {
      "cell_type": "code",
      "source": [
        "def func(x):\n",
        "  print(x)\n",
        "\n",
        "#print argument\n",
        "func(1) #1\n",
        "func(\"hello\") #hello"
      ],
      "metadata": {
        "colab": {
          "base_uri": "https://localhost:8080/"
        },
        "id": "9DKRFw6zBX_g",
        "outputId": "f647bc09-4f1d-4d5d-a23e-27f1e86f8036"
      },
      "execution_count": null,
      "outputs": [
        {
          "output_type": "stream",
          "name": "stdout",
          "text": [
            "1\n",
            "hello\n"
          ]
        }
      ]
    },
    {
      "cell_type": "markdown",
      "source": [
        "# Lambda Function\n",
        "- Python lambdas are little, anonymous functions, subject to a more restrictive but more concise syntax than regular Python functions.\n",
        "\n",
        "[Read more about it here](https://realpython.com/python-lambda/)\n",
        "\n",
        "### Syntax :\n",
        "\n",
        "\n",
        "```\n",
        "lambda arguments : expression\n",
        "```"
      ],
      "metadata": {
        "id": "9wIvP0vsBafC"
      }
    },
    {
      "cell_type": "code",
      "source": [
        "# return square\n",
        "calc = lambda num: num ** 2\n",
        "\n",
        "print(\"Square of 20 is:\",calc(20))"
      ],
      "metadata": {
        "colab": {
          "base_uri": "https://localhost:8080/"
        },
        "id": "sTCmW3bjB2lF",
        "outputId": "23ec4c36-cea0-49f2-9251-6b458c39360b"
      },
      "execution_count": null,
      "outputs": [
        {
          "output_type": "stream",
          "name": "stdout",
          "text": [
            "Square of 20 is: 400\n"
          ]
        }
      ]
    },
    {
      "cell_type": "code",
      "source": [
        "# Lambda function can be called directly (with 2 arguments)\n",
        "(lambda x, y: x + y)(2, 3)"
      ],
      "metadata": {
        "colab": {
          "base_uri": "https://localhost:8080/"
        },
        "id": "meXjl_kvDVix",
        "outputId": "4e485d04-ce81-424a-feff-77ae6df05d23"
      },
      "execution_count": null,
      "outputs": [
        {
          "output_type": "execute_result",
          "data": {
            "text/plain": [
              "5"
            ]
          },
          "metadata": {},
          "execution_count": 3
        }
      ]
    },
    {
      "cell_type": "code",
      "source": [
        "# lambda itself returns a function object\n",
        "print(lambda x, y: x + y)"
      ],
      "metadata": {
        "colab": {
          "base_uri": "https://localhost:8080/"
        },
        "id": "fb529wZnDb5k",
        "outputId": "4e4e5e05-5529-4d4e-b278-3bd454e3a57a"
      },
      "execution_count": null,
      "outputs": [
        {
          "output_type": "stream",
          "name": "stdout",
          "text": [
            "<function <lambda> at 0x7f2f873868e0>\n"
          ]
        }
      ]
    },
    {
      "cell_type": "markdown",
      "source": [
        "### ✅ Difference Between Lambda Function and Regular Function (`def`)\n",
        "\n",
        "| **Aspect**               | **Regular Function (`def`)**                   | **Lambda Function**                      |\n",
        "|--------------------------|-----------------------------------------------|-----------------------------------------|\n",
        "| **Syntax**               | Defined using the `def` keyword.              | Defined using the `lambda` keyword.     |\n",
        "| **Function Name**        | Has a specific name (e.g., `cube`).           | Often anonymous, assigned to a variable (e.g., `lambda_cube`). |\n",
        "| **Body**                 | Supports multiple expressions and statements. | Only a single expression (no statements). |\n",
        "| **Readability**          | More readable for complex logic.              | Best for short, simple, one-liner functions. |\n",
        "| **Use Cases**            | General-purpose functions, reusable blocks.   | Small, throwaway functions, usually for immediate use. |\n",
        "| **Debugging**            | Easier to debug (shows function name in stack trace). | Harder to debug (anonymous, no name by default). |\n",
        "| **Supports Docstrings?** | Yes.                                          | No.                                     |\n",
        "\n",
        "---"
      ],
      "metadata": {
        "id": "zlAA6-zNF6T_"
      }
    },
    {
      "cell_type": "code",
      "source": [
        "# Regular Function using def\n",
        "def cube(y):\n",
        "    print(f\"Finding cube of number: {y}\")  # You can have multiple lines\n",
        "    return y * y * y                       # Supports statements and logic\n",
        "\n",
        "# Lambda Function\n",
        "lambda_cube = lambda num: num ** 3          # One-liner, only expressions allowed\n",
        "\n",
        "# Invoking Regular Function\n",
        "print(\"Invoking function defined with def keyword:\")\n",
        "print(cube(30))   # Output: Finding cube of number: 30 | 27000\n",
        "\n",
        "# Invoking Lambda Function\n",
        "print(\"Invoking lambda function:\")\n",
        "print(lambda_cube(30))   # Output: 27000\n"
      ],
      "metadata": {
        "colab": {
          "base_uri": "https://localhost:8080/"
        },
        "id": "uFYZ4j4aDpy7",
        "outputId": "a21715bc-a7e0-4c48-fcb8-ad6dd35c4438"
      },
      "execution_count": null,
      "outputs": [
        {
          "output_type": "stream",
          "name": "stdout",
          "text": [
            "Invoking function defined with def keyword:\n",
            "Finding cube of number: 30\n",
            "27000\n",
            "Invoking lambda function:\n",
            "27000\n"
          ]
        }
      ]
    },
    {
      "cell_type": "markdown",
      "source": [
        "### Ternary operator with Lambda Function\n",
        "\n",
        "# What is ternary operator?\n",
        "- Python allows us to perform conditional checks and assign values or perform operations on a single line.\n",
        "\n",
        "### Syntax\n",
        "\n",
        "\n",
        "```\n",
        "value_if_true if condition else value_if_false\n",
        "\n",
        "```\n",
        "### ✅ Why Use Ternary Operator with Lambda?\n",
        "\n",
        "- Lambda functions **only support expressions**, not statements (like `if` blocks).\n",
        "- Ternary operators are **perfect** for writing conditional logic inside a lambda function.\n"
      ],
      "metadata": {
        "id": "yPOO7UrDGuzX"
      }
    },
    {
      "cell_type": "code",
      "source": [
        "#Even/Odd\n",
        "n = 5\n",
        "res = \"Even\" if n % 2 == 0 else \"Odd\"\n",
        "print(res)"
      ],
      "metadata": {
        "colab": {
          "base_uri": "https://localhost:8080/"
        },
        "id": "oOOWOsfXEF_a",
        "outputId": "48c6986a-1755-48ed-c830-cc4b9ea8d1f2"
      },
      "execution_count": null,
      "outputs": [
        {
          "output_type": "stream",
          "name": "stdout",
          "text": [
            "Odd\n"
          ]
        }
      ]
    },
    {
      "cell_type": "code",
      "source": [
        "#Positive/Negative/Zero\n",
        "n = -5\n",
        "\n",
        "res = \"Positive\" if n > 0 else \"Negative\" if n < 0 else \"Zero\"\n",
        "print(res)"
      ],
      "metadata": {
        "colab": {
          "base_uri": "https://localhost:8080/"
        },
        "id": "WO0XkOegGn4V",
        "outputId": "70e9131a-363c-42db-a3cc-f62adc37baf0"
      },
      "execution_count": null,
      "outputs": [
        {
          "output_type": "stream",
          "name": "stdout",
          "text": [
            "Negative\n"
          ]
        }
      ]
    },
    {
      "cell_type": "code",
      "source": [
        "#Using tuple\n",
        "n = 7\n",
        "res = (\"Odd\", \"Even\")[n % 2 == 0]\n",
        "print(res)\n",
        "\n",
        "#The condition num % 2 == 0 evaluates to False (index 0), so it selects “Odd”."
      ],
      "metadata": {
        "colab": {
          "base_uri": "https://localhost:8080/"
        },
        "id": "Z4cOjwMEIfYc",
        "outputId": "9d889e60-96c7-4a3e-a9a9-575240f3814c"
      },
      "execution_count": null,
      "outputs": [
        {
          "output_type": "stream",
          "name": "stdout",
          "text": [
            "Odd\n"
          ]
        }
      ]
    },
    {
      "cell_type": "code",
      "source": [
        "# Using dictionary with key True and False\n",
        "a = 10\n",
        "b = 20\n",
        "max = {True: a, False: b}[a > b]\n",
        "print(max)\n"
      ],
      "metadata": {
        "colab": {
          "base_uri": "https://localhost:8080/"
        },
        "id": "yniN4JO1JDRm",
        "outputId": "b2ba59c3-93ca-40d4-b1f5-9165b265801d"
      },
      "execution_count": null,
      "outputs": [
        {
          "output_type": "stream",
          "name": "stdout",
          "text": [
            "20\n"
          ]
        }
      ]
    },
    {
      "cell_type": "markdown",
      "source": [
        "### ⭐Ternary with Lambda Examples"
      ],
      "metadata": {
        "id": "LS-MwLc1KHBi"
      }
    },
    {
      "cell_type": "code",
      "source": [
        "# Lambda to return the maximum of two numbers\n",
        "max_of_two = lambda a, b: a if a > b else b\n",
        "\n",
        "print(max_of_two(4, 9))   # Output: 9\n",
        "print(max_of_two(12, 7))  # Output: 12"
      ],
      "metadata": {
        "colab": {
          "base_uri": "https://localhost:8080/"
        },
        "id": "0zLdciVVJZDi",
        "outputId": "03f7663e-0abb-4473-8eaa-94ae6d80404e"
      },
      "execution_count": null,
      "outputs": [
        {
          "output_type": "stream",
          "name": "stdout",
          "text": [
            "9\n",
            "12\n"
          ]
        }
      ]
    },
    {
      "cell_type": "code",
      "source": [
        "# Lambda to return absolute value of a number\n",
        "absolute = lambda x: x if x >= 0 else -x\n",
        "\n",
        "print(absolute(-20))   # Output: 20\n",
        "print(absolute(5))     # Output: 5"
      ],
      "metadata": {
        "colab": {
          "base_uri": "https://localhost:8080/"
        },
        "id": "mFcrcO-SKYCR",
        "outputId": "e00c8b9a-c4f3-41e3-ab3a-694c4dcb7292"
      },
      "execution_count": null,
      "outputs": [
        {
          "output_type": "stream",
          "name": "stdout",
          "text": [
            "20\n",
            "5\n"
          ]
        }
      ]
    },
    {
      "cell_type": "code",
      "source": [
        "# Lambda to categorize based on marks\n",
        "# Excellent >= 90, Good >= 75, Average >= 50, Fail otherwise\n",
        "result = lambda marks: (\"Excellent\" if marks >= 90 else\n",
        "                       \"Good\" if marks >= 75 else\n",
        "                       \"Average\" if marks >= 50 else \"Fail\")\n",
        "\n",
        "# use '()' for multiline statement\n",
        "\n",
        "print(result(95))   # Output: Excellent\n",
        "print(result(80))   # Output: Good\n",
        "print(result(60))   # Output: Average\n",
        "print(result(40))   # Output: Fail\n"
      ],
      "metadata": {
        "colab": {
          "base_uri": "https://localhost:8080/"
        },
        "id": "P0Wdi_ZzKfmU",
        "outputId": "b9c0f8d6-0d9b-43f5-aad5-4f01f43ae56d"
      },
      "execution_count": null,
      "outputs": [
        {
          "output_type": "stream",
          "name": "stdout",
          "text": [
            "Excellent\n",
            "Good\n",
            "Average\n",
            "Fail\n"
          ]
        }
      ]
    },
    {
      "cell_type": "markdown",
      "source": [
        "### ⭐⭐⭐Lambda function with sorted() function\n",
        "- sorted functions is for iterables\n",
        "- output is always list"
      ],
      "metadata": {
        "id": "SH8Zxv0DMaYF"
      }
    },
    {
      "cell_type": "code",
      "source": [
        "fruits = [('apple', 3), ('banana', 1), ('cherry', 2)]\n",
        "\n",
        "print(sorted(fruits))\n",
        "# Output: [('apple', 3), ('banana', 1), ('cherry', 2)]\n",
        "# By default, sorted() will sort by the first element ('apple', 'banana', etc.)\n"
      ],
      "metadata": {
        "colab": {
          "base_uri": "https://localhost:8080/"
        },
        "id": "q3MXwDVrKoGy",
        "outputId": "faea2d61-90d0-4ef4-b434-578b0ca9d68d"
      },
      "execution_count": null,
      "outputs": [
        {
          "output_type": "stream",
          "name": "stdout",
          "text": [
            "[('apple', 3), ('banana', 1), ('cherry', 2)]\n"
          ]
        }
      ]
    },
    {
      "cell_type": "code",
      "source": [
        "# But if we want to sort by quantity (the second element), we use key\n",
        "\n",
        "def get_quantity(item):\n",
        "    return item[1] # Returns the second element (quantity) of each tuple\n",
        "\n",
        "sorted_fruits = sorted(fruits, key=get_quantity)\n",
        "\n",
        "print(sorted_fruits)\n",
        "# Output: [('banana', 1), ('cherry', 2), ('apple', 3)]"
      ],
      "metadata": {
        "colab": {
          "base_uri": "https://localhost:8080/"
        },
        "id": "GLBW8i8pM0WG",
        "outputId": "0b5d188d-a79b-446c-d68e-cfb2687bdb99"
      },
      "execution_count": null,
      "outputs": [
        {
          "output_type": "stream",
          "name": "stdout",
          "text": [
            "[('banana', 1), ('cherry', 2), ('apple', 3)]\n"
          ]
        }
      ]
    },
    {
      "cell_type": "code",
      "source": [
        "#Lambda function make it more easier\n",
        "sorted_fruits = sorted(fruits, key=lambda item: item[1])\n",
        "print(sorted_fruits)"
      ],
      "metadata": {
        "colab": {
          "base_uri": "https://localhost:8080/"
        },
        "id": "nVreYgMyNJbl",
        "outputId": "7219a191-c06d-4d80-811e-fd62227d8aef"
      },
      "execution_count": null,
      "outputs": [
        {
          "output_type": "stream",
          "name": "stdout",
          "text": [
            "[('banana', 1), ('cherry', 2), ('apple', 3)]\n"
          ]
        }
      ]
    },
    {
      "cell_type": "code",
      "source": [
        "# ✅ Example 2: Sorting a List of Strings by Length (using lambda)\n",
        "words = ['python', 'java', 'C', 'javascript']\n",
        "\n",
        "# Sort by length of each word\n",
        "sorted_words = sorted(words, key=lambda word: len(word))\n",
        "\n",
        "print(sorted_words)\n",
        "# Output: ['C', 'java', 'python', 'javascript']\n"
      ],
      "metadata": {
        "colab": {
          "base_uri": "https://localhost:8080/"
        },
        "id": "4hUGdgK7N8VK",
        "outputId": "4a13d292-8ad1-467e-b1f2-57e9a0e69c84"
      },
      "execution_count": null,
      "outputs": [
        {
          "output_type": "stream",
          "name": "stdout",
          "text": [
            "['C', 'java', 'python', 'javascript']\n"
          ]
        }
      ]
    },
    {
      "cell_type": "code",
      "source": [
        "# ✅ Example 7: Sorting a String (iterable of characters)\n",
        "text = \"dbca\"\n",
        "\n",
        "# Sorts characters alphabetically\n",
        "sorted_chars = sorted(text)\n",
        "\n",
        "print(sorted_chars)\n",
        "# Output: ['a', 'b', 'c', 'd']\n",
        "\n",
        "# If you want back as a string:\n",
        "sorted_string = ''.join(sorted_chars)\n",
        "print(sorted_string)\n",
        "# Output: abcd\n"
      ],
      "metadata": {
        "colab": {
          "base_uri": "https://localhost:8080/"
        },
        "id": "AHabC3rUsnlv",
        "outputId": "bad13525-2d26-4402-dd58-3dabf614e61f"
      },
      "execution_count": null,
      "outputs": [
        {
          "output_type": "stream",
          "name": "stdout",
          "text": [
            "['a', 'b', 'c', 'd']\n",
            "abcd\n"
          ]
        }
      ]
    },
    {
      "cell_type": "code",
      "source": [
        "# ✅ Example 8: Sorting Custom Objects (advanced)\n",
        "\n",
        "class Person:\n",
        "    def __init__(self, name, age):\n",
        "        self.name = name\n",
        "        self.age = age\n",
        "\n",
        "# List of Person objects\n",
        "people = [\n",
        "    Person('Alice', 30),\n",
        "    Person('Bob', 25),\n",
        "    Person('Charlie', 35)\n",
        "]\n",
        "\n",
        "# Sort by age using lambda\n",
        "sorted_people = sorted(people, key=lambda person: person.age)\n",
        "\n",
        "# Print sorted names\n",
        "print([p.name for p in sorted_people])\n",
        "# Output: ['Bob', 'Alice', 'Charlie']\n"
      ],
      "metadata": {
        "colab": {
          "base_uri": "https://localhost:8080/"
        },
        "id": "4jvZ4eDEtlWK",
        "outputId": "e47da071-6ebe-43af-be1b-75199ad5a62c"
      },
      "execution_count": null,
      "outputs": [
        {
          "output_type": "stream",
          "name": "stdout",
          "text": [
            "['Bob', 'Alice', 'Charlie']\n"
          ]
        }
      ]
    },
    {
      "cell_type": "markdown",
      "source": [
        "# HOF: Higher Order Function\n",
        "➡️ A Higher-Order Function is a function that either:\n",
        "\n",
        "- Takes another function as an argument\n",
        "- Returns a function as its result\n",
        "\n",
        "<img src=\"https://d2beiqkhq929f0.cloudfront.net/public_assets/assets/000/016/031/original/Screenshot_2022-10-10_at_12.41.52_PM.png?1665385895\">\n",
        "<img src=\"https://d2beiqkhq929f0.cloudfront.net/public_assets/assets/000/016/032/original/Screenshot_2022-10-10_at_12.41.59_PM.png?1665385919\">"
      ],
      "metadata": {
        "id": "ar72tS7tvtQM"
      }
    },
    {
      "cell_type": "code",
      "source": [
        "# Higher-order function: returns another function\n",
        "def gen_exp(n):\n",
        "    # Inner function that raises x to the power of n\n",
        "    def exp(x):\n",
        "        return x ** n\n",
        "\n",
        "    return exp  # Return the inner function"
      ],
      "metadata": {
        "id": "Fcuh0vnot8fs"
      },
      "execution_count": null,
      "outputs": []
    },
    {
      "cell_type": "code",
      "source": [
        "exp_5 = gen_exp(5)\n",
        "print(exp_5)\n",
        "type(exp_5)"
      ],
      "metadata": {
        "colab": {
          "base_uri": "https://localhost:8080/"
        },
        "id": "JxX60N9nwWoe",
        "outputId": "c2e26237-41aa-483f-b972-ba63790f7165"
      },
      "execution_count": null,
      "outputs": [
        {
          "output_type": "stream",
          "name": "stdout",
          "text": [
            "<function gen_exp.<locals>.exp at 0x7d9b47f02700>\n"
          ]
        },
        {
          "output_type": "execute_result",
          "data": {
            "text/plain": [
              "function"
            ]
          },
          "metadata": {},
          "execution_count": 11
        }
      ]
    },
    {
      "cell_type": "code",
      "source": [
        "exp_5(2)"
      ],
      "metadata": {
        "colab": {
          "base_uri": "https://localhost:8080/"
        },
        "id": "0ofM69YSxQr4",
        "outputId": "14cbebe1-3b0d-46fc-de66-246b808b9982"
      },
      "execution_count": null,
      "outputs": [
        {
          "output_type": "execute_result",
          "data": {
            "text/plain": [
              "32"
            ]
          },
          "metadata": {},
          "execution_count": 12
        }
      ]
    },
    {
      "cell_type": "code",
      "source": [
        "square = gen_exp(2)  # Returns a function that squares a number\n",
        "cube = gen_exp(3)    # Returns a function that cubes a number\n",
        "\n",
        "print(square(5))  # Output: 25\n",
        "print(cube(4))    # Output: 64"
      ],
      "metadata": {
        "colab": {
          "base_uri": "https://localhost:8080/"
        },
        "id": "2RTEKJPjyLXo",
        "outputId": "23117c05-c688-4bb1-e9a3-15678af773b6"
      },
      "execution_count": null,
      "outputs": [
        {
          "output_type": "stream",
          "name": "stdout",
          "text": [
            "25\n",
            "64\n"
          ]
        }
      ]
    },
    {
      "cell_type": "markdown",
      "source": [
        "# Decorators\n",
        "High order functions that take another function as input and add the extra behaviour in along with the functionality of passed function"
      ],
      "metadata": {
        "id": "5vmocGIWz9dt"
      }
    },
    {
      "cell_type": "code",
      "source": [
        "def foo():\n",
        "    print(\"-\"*50)\n",
        "    print(\"Hello everyone! How are you doing?\")\n",
        "    print(\"-\"*50)"
      ],
      "metadata": {
        "id": "VqVWTEIdzB6V"
      },
      "execution_count": null,
      "outputs": []
    },
    {
      "cell_type": "code",
      "source": [
        "foo()"
      ],
      "metadata": {
        "colab": {
          "base_uri": "https://localhost:8080/"
        },
        "id": "jNOD9fA80e9Q",
        "outputId": "a6135564-f032-4b4c-e861-90c85e66537e"
      },
      "execution_count": null,
      "outputs": [
        {
          "output_type": "stream",
          "name": "stdout",
          "text": [
            "--------------------------------------------------\n",
            "Hello everyone! How are you doing?\n",
            "--------------------------------------------------\n"
          ]
        }
      ]
    },
    {
      "cell_type": "code",
      "source": [
        "# A decorator accepts a function as an argument and returns a decorated function\n",
        "def pretty(func):\n",
        "    def inner():\n",
        "        print(\"-\"*50)\n",
        "        func()\n",
        "        print(\"-\"*50)\n",
        "\n",
        "    return inner"
      ],
      "metadata": {
        "id": "8Epa6Ii70gvw"
      },
      "execution_count": null,
      "outputs": []
    },
    {
      "cell_type": "code",
      "source": [
        "def bar():\n",
        "  print(\"Hi! This is Hardik!\")"
      ],
      "metadata": {
        "id": "TJClwNHZ0lb-"
      },
      "execution_count": null,
      "outputs": []
    },
    {
      "cell_type": "code",
      "source": [
        "new_bar = pretty(bar)\n",
        "new_bar()"
      ],
      "metadata": {
        "colab": {
          "base_uri": "https://localhost:8080/"
        },
        "id": "re2UpdH70yvm",
        "outputId": "6d2311b8-0701-4d54-f9de-5759d6be2de2"
      },
      "execution_count": null,
      "outputs": [
        {
          "output_type": "stream",
          "name": "stdout",
          "text": [
            "--------------------------------------------------\n",
            "Hi! This is hardik!\n",
            "--------------------------------------------------\n"
          ]
        }
      ]
    },
    {
      "cell_type": "code",
      "source": [
        "#Way to use decoratos\n",
        "@pretty\n",
        "def foo():\n",
        "    print(\"WHATTTT?\")\n",
        "\n",
        "foo()"
      ],
      "metadata": {
        "colab": {
          "base_uri": "https://localhost:8080/"
        },
        "id": "ugag5MW61D9i",
        "outputId": "8598216b-3bd7-460d-cab3-3bbc011e5d42"
      },
      "execution_count": null,
      "outputs": [
        {
          "output_type": "stream",
          "name": "stdout",
          "text": [
            "--------------------------------------------------\n",
            "WHATTTT?\n",
            "--------------------------------------------------\n"
          ]
        }
      ]
    },
    {
      "cell_type": "markdown",
      "source": [
        "# <u>Principles of Functional Programming</u>\n",
        "\n",
        "<img src=\"https://d2beiqkhq929f0.cloudfront.net/public_assets/assets/000/016/063/original/Screenshot_2022-10-11_at_10.56.52_AM.png?1665466330\">"
      ],
      "metadata": {
        "id": "j9afOMK3IUde"
      }
    },
    {
      "cell_type": "markdown",
      "source": [
        "# Map\n",
        "\n",
        "### ✅ What is map()?\n",
        "- ➡️ map() is a built-in higher-order function.\n",
        "- ➡️ It applies a function to every item in an iterable (like a list, tuple, etc.).\n",
        "- ➡️ It returns a map object, which is an iterator (lazy evaluation!).\n",
        "\n",
        "### Syntax\n",
        "\n",
        "\n",
        "```\n",
        "map(function, iterable)\n",
        "```\n",
        "\n"
      ],
      "metadata": {
        "id": "giKU0hqiJTyc"
      }
    },
    {
      "cell_type": "code",
      "source": [
        "numbers = [1, 2, 3, 4, 5]\n",
        "\n",
        "# Manually square each number in the list\n",
        "squares = []\n",
        "for num in numbers:\n",
        "    squares.append(num ** 2)\n",
        "\n",
        "print(squares)  # Output: [1, 4, 9, 16, 25]"
      ],
      "metadata": {
        "colab": {
          "base_uri": "https://localhost:8080/"
        },
        "id": "kjTpWtFt1gfO",
        "outputId": "8f1cdeb5-eefb-4ef3-e40e-5e7a3d2b3761"
      },
      "execution_count": null,
      "outputs": [
        {
          "output_type": "stream",
          "name": "stdout",
          "text": [
            "[1, 4, 9, 16, 25]\n"
          ]
        }
      ]
    },
    {
      "cell_type": "code",
      "source": [
        "numbers = [1, 2, 3, 4, 5]\n",
        "\n",
        "# map() applies the lambda function to each number\n",
        "squares = map(lambda x: x ** 2, numbers)\n",
        "\n",
        "# Convert map object to a list to see the output\n",
        "print(list(squares))  # Output: [1, 4, 9, 16, 25]"
      ],
      "metadata": {
        "colab": {
          "base_uri": "https://localhost:8080/"
        },
        "id": "C_SVtMbaN07m",
        "outputId": "4baa346b-86eb-4da2-9d9c-512bc1d85327"
      },
      "execution_count": null,
      "outputs": [
        {
          "output_type": "stream",
          "name": "stdout",
          "text": [
            "[1, 4, 9, 16, 25]\n"
          ]
        }
      ]
    },
    {
      "cell_type": "markdown",
      "source": [
        "➡️ map() does not return a list, it returns a lazy map object.\n",
        "You need to wrap it with list() or loop over it."
      ],
      "metadata": {
        "id": "9_KRsJaiOHcv"
      }
    },
    {
      "cell_type": "code",
      "source": [
        "names = ['alice', 'bob', 'charlie']\n",
        "\n",
        "upper_names = map(lambda name: name.upper(), names)\n",
        "\n",
        "print(list(upper_names))\n",
        "# Output: ['ALICE', 'BOB', 'CHARLIE']"
      ],
      "metadata": {
        "colab": {
          "base_uri": "https://localhost:8080/"
        },
        "id": "RsnmaXn2N-QD",
        "outputId": "a8994919-ecf2-479e-915f-1a213cf2243e"
      },
      "execution_count": null,
      "outputs": [
        {
          "output_type": "stream",
          "name": "stdout",
          "text": [
            "['ALICE', 'BOB', 'CHARLIE']\n"
          ]
        }
      ]
    },
    {
      "cell_type": "code",
      "source": [
        "prices_in_inr = [800, 1600, 4000, 12000]\n",
        "\n",
        "# Convert prices to USD\n",
        "prices_in_usd = map(lambda price: price / 80, prices_in_inr)\n",
        "\n",
        "print(list(prices_in_usd))\n",
        "# Output: [10.0, 20.0, 50.0, 150.0]"
      ],
      "metadata": {
        "colab": {
          "base_uri": "https://localhost:8080/"
        },
        "id": "6xXCXwWwOh5I",
        "outputId": "33a6e9ee-0c73-493f-b0dc-4c43e3f85077"
      },
      "execution_count": null,
      "outputs": [
        {
          "output_type": "stream",
          "name": "stdout",
          "text": [
            "[10.0, 20.0, 50.0, 150.0]\n"
          ]
        }
      ]
    },
    {
      "cell_type": "code",
      "source": [
        "list1 = [1, 2, 3, 4]\n",
        "list2 = [10, 20, 30, 40]\n",
        "\n",
        "# Multiply corresponding items from both lists\n",
        "products = map(lambda x, y: x * y, list1, list2)\n",
        "\n",
        "print(list(products))\n",
        "# Output: [10, 40, 90, 160]"
      ],
      "metadata": {
        "colab": {
          "base_uri": "https://localhost:8080/"
        },
        "id": "l9Yv7sLUOnSI",
        "outputId": "e89c5e9a-bcb9-4c7e-975a-61dbf7eaef64"
      },
      "execution_count": null,
      "outputs": [
        {
          "output_type": "stream",
          "name": "stdout",
          "text": [
            "[10, 40, 90, 160]\n"
          ]
        }
      ]
    },
    {
      "cell_type": "markdown",
      "source": [
        "> Task 2: Convert given height length to t-shirt size\n",
        "\n",
        "```\n",
        "h < 150 -> S\n",
        "h >= 150 and h < 180 -> M\n",
        "h >= 180 -> L\n",
        "```"
      ],
      "metadata": {
        "id": "5AK-J2_4PQnU"
      }
    },
    {
      "cell_type": "code",
      "source": [
        "heights = [144, 167, 189, 170, 190, 150, 165, 178, 200, 130]"
      ],
      "metadata": {
        "id": "0bEtRqSBO8an"
      },
      "execution_count": null,
      "outputs": []
    },
    {
      "cell_type": "code",
      "source": [
        "sizes = map(lambda x: \"L\" if x >= 180 else \"M\" if (x<180 and x>= 150) else \"S\" ,heights)"
      ],
      "metadata": {
        "id": "yHQvBno7Pew2"
      },
      "execution_count": null,
      "outputs": []
    },
    {
      "cell_type": "code",
      "source": [
        "print(sizes) # Return sizes map object\n",
        "print(list(sizes)) # Return list of sizes"
      ],
      "metadata": {
        "colab": {
          "base_uri": "https://localhost:8080/"
        },
        "id": "kKtSkT0xP5H5",
        "outputId": "24607af4-d2a6-46a4-b813-e964ed9a8504"
      },
      "execution_count": null,
      "outputs": [
        {
          "output_type": "stream",
          "name": "stdout",
          "text": [
            "<map object at 0x7b9073755ed0>\n",
            "['S', 'M', 'L', 'M', 'L', 'M', 'M', 'M', 'L', 'S']\n"
          ]
        }
      ]
    },
    {
      "cell_type": "markdown",
      "source": [
        "> Task 3: Given two lists A and B having 1s and 0s, find another list with element at index `i` as `True` if `A[i] == B[i]` else False"
      ],
      "metadata": {
        "id": "GS3i4DOlQWqH"
      }
    },
    {
      "cell_type": "code",
      "source": [
        "A = [1,0,0,1,1,1,0,0,0,1,0,1]\n",
        "B = [0,0,1,1,0,1,1,1,0,0,0,0]\n",
        "\n",
        "# C = [True, True, False.........]\n",
        "# C = True if both have same element else False"
      ],
      "metadata": {
        "id": "jIdrmW70P8B8"
      },
      "execution_count": null,
      "outputs": []
    },
    {
      "cell_type": "code",
      "source": [
        "C = map(lambda x,y: True if x==y else False ,A,B)\n",
        "print(list(C))"
      ],
      "metadata": {
        "colab": {
          "base_uri": "https://localhost:8080/"
        },
        "id": "F2Z5UpgFQ89x",
        "outputId": "37b64b21-4713-446b-b53f-116a18369fa6"
      },
      "execution_count": null,
      "outputs": [
        {
          "output_type": "stream",
          "name": "stdout",
          "text": [
            "[False, True, False, True, False, True, False, False, True, False, True, False]\n"
          ]
        }
      ]
    },
    {
      "cell_type": "markdown",
      "source": [
        "# Filter\n",
        "### ✅ What is filter()?\n",
        "- ➡️ filter() is a built-in higher-order function.\n",
        "- ➡️ It filters items from an iterable based on a condition function.\n",
        "- ➡️ It returns a filter object, which is an iterator (lazy, like generators).\n",
        "\n",
        "### Syntax:\n",
        "\n",
        "\n",
        "```\n",
        "filter(function, iterable)\n",
        "```\n",
        "- function: A function that returns True/False\n",
        "\n",
        "- iterable: A sequence (list, tuple, etc.)\n",
        "\n",
        "<img src=\"https://d2beiqkhq929f0.cloudfront.net/public_assets/assets/000/016/064/original/Screenshot_2022-10-11_at_11.14.51_AM.png?1665467068\">"
      ],
      "metadata": {
        "id": "M0rUJJK7SBvA"
      }
    },
    {
      "cell_type": "code",
      "source": [
        "numbers = [1, 2, 3, 4, 5, 6]\n",
        "\n",
        "# Get even numbers manually\n",
        "evens = []\n",
        "for num in numbers:\n",
        "    if num % 2 == 0:\n",
        "        evens.append(num)\n",
        "\n",
        "print(evens)  # Output: [2, 4, 6]"
      ],
      "metadata": {
        "colab": {
          "base_uri": "https://localhost:8080/"
        },
        "id": "2dPgF-3LRjP-",
        "outputId": "cf62cd7c-3c48-4309-a7bc-c12223a7c5f8"
      },
      "execution_count": null,
      "outputs": [
        {
          "output_type": "stream",
          "name": "stdout",
          "text": [
            "[2, 4, 6]\n"
          ]
        }
      ]
    },
    {
      "cell_type": "code",
      "source": [
        "numbers = [1, 2, 3, 4, 5, 6]\n",
        "\n",
        "# Use filter() with a lambda function to get evens\n",
        "evens = filter(lambda x: x % 2 == 0, numbers)\n",
        "\n",
        "# Convert filter object to list to view results\n",
        "print(list(evens))  # Output: [2, 4, 6]"
      ],
      "metadata": {
        "colab": {
          "base_uri": "https://localhost:8080/"
        },
        "id": "6ZFWp9o4SyxB",
        "outputId": "6dca77ed-de0f-402f-c171-2d3d4481a3ed"
      },
      "execution_count": null,
      "outputs": [
        {
          "output_type": "stream",
          "name": "stdout",
          "text": [
            "[2, 4, 6]\n"
          ]
        }
      ]
    },
    {
      "cell_type": "code",
      "source": [
        "names = ['Alice', '', 'Bob', '', 'Charlie']\n",
        "\n",
        "# Keep only non-empty names\n",
        "non_empty_names = filter(lambda name: name != '', names)\n",
        "\n",
        "print(list(non_empty_names))\n",
        "# Output: ['Alice', 'Bob', 'Charlie']\n"
      ],
      "metadata": {
        "colab": {
          "base_uri": "https://localhost:8080/"
        },
        "id": "oYWkISexS3cv",
        "outputId": "a1dc9356-14b2-4a41-8ed8-21cd53b953c5"
      },
      "execution_count": null,
      "outputs": [
        {
          "output_type": "stream",
          "name": "stdout",
          "text": [
            "['Alice', 'Bob', 'Charlie']\n"
          ]
        }
      ]
    },
    {
      "cell_type": "code",
      "source": [
        "orders = [500, 1200, 150, 2500, 3000, 700]\n",
        "\n",
        "# Filter orders where value > 1000\n",
        "high_value_orders = filter(lambda order: order > 1000, orders)\n",
        "\n",
        "print(list(high_value_orders))\n",
        "# Output: [1200, 2500, 3000]"
      ],
      "metadata": {
        "colab": {
          "base_uri": "https://localhost:8080/"
        },
        "id": "tOy303NngOnQ",
        "outputId": "efa6273f-9575-42e6-8a77-206e5488877d"
      },
      "execution_count": null,
      "outputs": [
        {
          "output_type": "stream",
          "name": "stdout",
          "text": [
            "[1200, 2500, 3000]\n"
          ]
        }
      ]
    },
    {
      "cell_type": "code",
      "source": [
        "words = ['apple', 'banana', 'cherry', 'avocado', 'grape']\n",
        "\n",
        "# Keep words starting with 'a'\n",
        "words_starting_with_a = filter(lambda word: word.startswith('a'), words)\n",
        "\n",
        "print(list(words_starting_with_a))\n",
        "# Output: ['apple', 'avocado']\n"
      ],
      "metadata": {
        "colab": {
          "base_uri": "https://localhost:8080/"
        },
        "id": "IbNOdIJvgWBU",
        "outputId": "7f3d2c36-1594-4c4d-e9ad-5cdb9942120d"
      },
      "execution_count": null,
      "outputs": [
        {
          "output_type": "stream",
          "name": "stdout",
          "text": [
            "['apple', 'avocado']\n"
          ]
        }
      ]
    },
    {
      "cell_type": "code",
      "source": [
        "emails = ['john@gmail.com', 'alice@yahoo.com', 'bob@gmail.com', 'charlie@outlook.com']\n",
        "\n",
        "# Keep only Gmail emails\n",
        "gmail_emails = filter(lambda email: email.endswith('@gmail.com'), emails)\n",
        "\n",
        "print(list(gmail_emails))\n",
        "# Output: ['john@gmail.com', 'bob@gmail.com']\n"
      ],
      "metadata": {
        "colab": {
          "base_uri": "https://localhost:8080/"
        },
        "id": "t2BF8xajgZKp",
        "outputId": "86d370c9-0e76-40a4-dcf3-58fc9bfc5d5f"
      },
      "execution_count": null,
      "outputs": [
        {
          "output_type": "stream",
          "name": "stdout",
          "text": [
            "['john@gmail.com', 'bob@gmail.com']\n"
          ]
        }
      ]
    },
    {
      "cell_type": "markdown",
      "source": [
        "#Zip\n",
        "\n",
        "### ✅ What is zip()?\n",
        "- ➡️ zip() combines two or more iterables element-wise into tuples.\n",
        "- ➡️ Think of zipping two lists together like the teeth of a zipper.\n",
        "- ➡️ You often convert it to a list or tuple to view its content.\n",
        "\n",
        "### Syntax\n",
        "\n",
        "\n",
        "```\n",
        "zip(iterable1, iterable2, ...)\n",
        "```\n",
        "\n",
        "\n",
        "\n",
        "<img src=\"https://i.ytimg.com/vi/Kn6GRtiY4eM/maxresdefault.jpg\">"
      ],
      "metadata": {
        "id": "c9DPpyE7g5Ky"
      }
    },
    {
      "cell_type": "code",
      "source": [
        "names = ['Alice', 'Bob', 'Charlie']\n",
        "scores = [85, 90, 95]\n",
        "\n",
        "# Pair names with scores\n",
        "paired = zip(names, scores)\n",
        "\n",
        "print(list(paired))\n",
        "# Output: [('Alice', 85), ('Bob', 90), ('Charlie', 95)]\n"
      ],
      "metadata": {
        "colab": {
          "base_uri": "https://localhost:8080/"
        },
        "id": "w0KIyxoNgbCT",
        "outputId": "15655f9a-0ecd-4742-94eb-1da441ea139c"
      },
      "execution_count": null,
      "outputs": [
        {
          "output_type": "stream",
          "name": "stdout",
          "text": [
            "[('Alice', 85), ('Bob', 90), ('Charlie', 95)]\n"
          ]
        }
      ]
    },
    {
      "cell_type": "code",
      "source": [
        "products = ['Laptop', 'Phone', 'Tablet']\n",
        "prices = [60000, 20000, 30000]\n",
        "stocks = [10, 50, 20]\n",
        "\n",
        "# Combine into product info\n",
        "product_info = zip(products, prices, stocks)\n",
        "\n",
        "print(list(product_info))\n",
        "# Output:\n",
        "# [('Laptop', 60000, 10), ('Phone', 20000, 50), ('Tablet', 30000, 20)]"
      ],
      "metadata": {
        "colab": {
          "base_uri": "https://localhost:8080/"
        },
        "id": "bHER06HaiRHM",
        "outputId": "22b427ee-d0b9-412b-baca-746239cd6534"
      },
      "execution_count": null,
      "outputs": [
        {
          "output_type": "stream",
          "name": "stdout",
          "text": [
            "[('Laptop', 60000, 10), ('Phone', 20000, 50), ('Tablet', 30000, 20)]\n"
          ]
        }
      ]
    },
    {
      "cell_type": "code",
      "source": [
        "#Iterating using zip\n",
        "students = ['Hardik', 'Rohan', 'Priya']\n",
        "marks = [88, 92, 79]\n",
        "\n",
        "for name, score in zip(students, marks):\n",
        "    print(f\"{name} scored {score}\")\n",
        "\n",
        "# Output:\n",
        "# Hardik scored 88\n",
        "# Rohan scored 92\n",
        "# Priya scored 79\n"
      ],
      "metadata": {
        "colab": {
          "base_uri": "https://localhost:8080/"
        },
        "id": "4cOQNHOQiTUY",
        "outputId": "d8816a83-2522-41a2-d5f5-9fc904246be2"
      },
      "execution_count": null,
      "outputs": [
        {
          "output_type": "stream",
          "name": "stdout",
          "text": [
            "Hardik scored 88\n",
            "Rohan scored 92\n",
            "Priya scored 79\n"
          ]
        }
      ]
    },
    {
      "cell_type": "code",
      "source": [
        "# Uneven Lists\n",
        "names = ['Alice', 'Bob']\n",
        "scores = [85, 90, 95]\n",
        "\n",
        "paired = zip(names, scores)\n",
        "\n",
        "print(list(paired))\n",
        "# Output: [('Alice', 85), ('Bob', 90)]"
      ],
      "metadata": {
        "colab": {
          "base_uri": "https://localhost:8080/"
        },
        "id": "DmS41_gfid_V",
        "outputId": "189b003e-7cdd-423f-92ec-f10689b1b1ca"
      },
      "execution_count": null,
      "outputs": [
        {
          "output_type": "stream",
          "name": "stdout",
          "text": [
            "[('Alice', 85), ('Bob', 90)]\n"
          ]
        }
      ]
    },
    {
      "cell_type": "code",
      "source": [
        "#Unzipping with zip(*iterable)\n",
        "pairs = [('Alice', 85), ('Bob', 90), ('Charlie', 95)]\n",
        "\n",
        "# Unzip\n",
        "names, scores = zip(*pairs)\n",
        "\n",
        "print(names)   # Output: ('Alice', 'Bob', 'Charlie')\n",
        "print(scores)  # Output: (85, 90, 95)\n"
      ],
      "metadata": {
        "colab": {
          "base_uri": "https://localhost:8080/"
        },
        "id": "DqMvsHoXipJq",
        "outputId": "077c8855-de7e-467d-b6e0-4d1dff84f3e4"
      },
      "execution_count": null,
      "outputs": [
        {
          "output_type": "stream",
          "name": "stdout",
          "text": [
            "('Alice', 'Bob', 'Charlie')\n",
            "(85, 90, 95)\n"
          ]
        }
      ]
    },
    {
      "cell_type": "code",
      "source": [
        "#Creating dictionary using 2 iterables\n",
        "keys = ['id', 'name', 'age']\n",
        "values = [101, 'Hardik', 27]\n",
        "\n",
        "data_dict = dict(zip(keys, values))\n",
        "\n",
        "print(data_dict)\n",
        "# Output: {'id': 101, 'name': 'Hardik', 'age': 27}\n"
      ],
      "metadata": {
        "colab": {
          "base_uri": "https://localhost:8080/"
        },
        "id": "McME04qkiwUp",
        "outputId": "22afe2f9-e1aa-4117-a70d-86e7800842df"
      },
      "execution_count": null,
      "outputs": [
        {
          "output_type": "stream",
          "name": "stdout",
          "text": [
            "{'id': 101, 'name': 'Hardik', 'age': 27}\n"
          ]
        }
      ]
    },
    {
      "cell_type": "code",
      "source": [],
      "metadata": {
        "id": "jOaFLQV8i3Zs"
      },
      "execution_count": null,
      "outputs": []
    }
  ]
}